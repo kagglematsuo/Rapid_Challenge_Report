{
  "nbformat": 4,
  "nbformat_minor": 0,
  "metadata": {
    "colab": {
      "name": "Untitled0.ipynb",
      "provenance": [],
      "authorship_tag": "ABX9TyMPO9cI1ex6BT+beGaEWC9h",
      "include_colab_link": true
    },
    "kernelspec": {
      "name": "python3",
      "display_name": "Python 3"
    },
    "language_info": {
      "name": "python"
    }
  },
  "cells": [
    {
      "cell_type": "markdown",
      "metadata": {
        "id": "view-in-github",
        "colab_type": "text"
      },
      "source": [
        "<a href=\"https://colab.research.google.com/github/kagglematsuo/Rapid_Challenge_Report/blob/master/Untitled0.ipynb\" target=\"_parent\"><img src=\"https://colab.research.google.com/assets/colab-badge.svg\" alt=\"Open In Colab\"/></a>"
      ]
    },
    {
      "cell_type": "code",
      "metadata": {
        "id": "RI0hgL6A-74q"
      },
      "source": [
        "def lstm(x, prev_h, prev_c, W, U, b):\n",
        "  lstm_in = _activation(x.dot(W.T)) + prev_h.dot(U.T) + b\n",
        "  a, i, f, o = np.hsplit(lstm_in, 4)\n",
        "\n",
        "  a = np.tanh(a)\n",
        "  input_gate = _sigmoid(i)\n",
        "  forget_gate = _sigmoid(f)\n",
        "  output_gate = _sigmoid(o)\n",
        "\n",
        "  c = input_gate * a + forget_gate * c\n",
        "  h = output_gate * np.tanh(c)\n",
        "  return c, h"
      ],
      "execution_count": 4,
      "outputs": []
    }
  ]
}